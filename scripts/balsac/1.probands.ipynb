{
 "cells": [
  {
   "cell_type": "markdown",
   "metadata": {},
   "source": [
    "# Proband Extraction\n",
    "\n",
    "The goal of this Jupyter notebook is to extract the probands from the BALSAC population register who married in Saguenay–Lac-Saint-Jean between 1931 and 1960, roughly correspondly to the last generation with the most complete genealogy."
   ]
  },
  {
   "cell_type": "code",
   "execution_count": 1,
   "metadata": {},
   "outputs": [],
   "source": [
    "import csv\n",
    "import json\n",
    "import pickle\n",
    "import geneakit as gen"
   ]
  },
  {
   "cell_type": "markdown",
   "metadata": {},
   "source": [
    "The paths to the datasets are found in the *paths.json* file."
   ]
  },
  {
   "cell_type": "code",
   "execution_count": 2,
   "metadata": {},
   "outputs": [],
   "source": [
    "with open(\"../paths.json\", 'r') as file:\n",
    "    paths = json.load(file)"
   ]
  },
  {
   "cell_type": "markdown",
   "metadata": {},
   "source": [
    "The following loads the BALSAC genealogy."
   ]
  },
  {
   "cell_type": "code",
   "execution_count": 3,
   "metadata": {},
   "outputs": [
    {
     "data": {
      "text/plain": [
       "A pedigree with:\n",
       " - 6140246 individuals;\n",
       " - 10817946 parent-child relations;\n",
       " - 3047310 men;\n",
       " - 3092936 women;\n",
       " - 3502836 probands;\n",
       " - 19 generations."
      ]
     },
     "execution_count": 3,
     "metadata": {},
     "output_type": "execute_result"
    }
   ],
   "source": [
    "ped = gen.genealogy(paths['balsac_genealogy'])\n",
    "ped"
   ]
  },
  {
   "cell_type": "markdown",
   "metadata": {},
   "source": [
    "The following lists all individuals in the genealogy."
   ]
  },
  {
   "cell_type": "code",
   "execution_count": 4,
   "metadata": {},
   "outputs": [
    {
     "data": {
      "text/plain": [
       "6140246"
      ]
     },
     "execution_count": 4,
     "metadata": {},
     "output_type": "execute_result"
    }
   ],
   "source": [
    "inds = ped.keys()\n",
    "len(inds)"
   ]
  },
  {
   "cell_type": "markdown",
   "metadata": {},
   "source": [
    "The following creates dictionaries that are used to convert city and region codes from BALSAC into human-readable name strings."
   ]
  },
  {
   "cell_type": "code",
   "execution_count": null,
   "metadata": {},
   "outputs": [],
   "source": [
    "city_code_to_string = {}\n",
    "with open(paths['geography_definitions'], 'r') as file:\n",
    "    reader = csv.reader(file)\n",
    "    next(reader)  # Skip header row\n",
    "    for row in reader:\n",
    "        UrbMariage, UrbIdMariage, *_ = row\n",
    "        city_code_to_string[int(UrbIdMariage)] = UrbMariage\n",
    "\n",
    "region_code_to_string = {\n",
    "    25705: \"Abitibi\",\n",
    "    25706: \"Bas-Saint-Laurent\",\n",
    "    25707: \"Beauce\",\n",
    "    25708: \"Bois-Francs\",\n",
    "    25709: \"Charlevoix\",\n",
    "    25710: \"Côte-de-Beaupré\",\n",
    "    25711: \"Côte-du-Sud\",\n",
    "    25712: \"Côte-Nord\",\n",
    "    25713: \"Estrie\",\n",
    "    25714: \"Gaspésie\",\n",
    "    25715: \"Île-de-Montréal\",\n",
    "    25716: \"Îles-de-la-Madeleine\",\n",
    "    25717: \"Lanaudière\",\n",
    "    25718: \"Laurentides\",\n",
    "    25719: \"Mauricie\",\n",
    "    25720: \"Outaouais\",\n",
    "    25721: \"Agglomération de Québec\",\n",
    "    25722: \"Région de Québec\",\n",
    "    25723: \"Nord du Québec\",\n",
    "    25724: \"Richelieu\",\n",
    "    25725: \"Rive Nord-Ouest de Montréal\",\n",
    "    25726: \"Rive Sud de Montréal\",\n",
    "    25727: \"Saguenay–Lac-Saint-Jean\",\n",
    "    25728: \"Témiscamingue\",\n",
    "    27118: \"Côte-de-Beaupré\",\n",
    "    27119: \"Portneuf\",\n",
    "    27120: \"Lévis-Lotbinière\"\n",
    "}"
   ]
  },
  {
   "cell_type": "markdown",
   "metadata": {},
   "source": [
    "The following generates dictionaries for identifying demographical information from an individual and their parents."
   ]
  },
  {
   "cell_type": "code",
   "execution_count": 6,
   "metadata": {},
   "outputs": [],
   "source": [
    "city_proband = {}\n",
    "region_proband = {}\n",
    "year_proband = {}\n",
    "city_parent = {}\n",
    "region_parent = {}\n",
    "\n",
    "with open(paths['demography_information'], 'r', encoding='cp1252') as file:\n",
    "    reader = csv.reader(file, delimiter=';')\n",
    "    next(reader)  # Skip header row\n",
    "    for row in reader:\n",
    "        if len(row) == 0: break\n",
    "        IndID, CaG, ERRQ, PereID, MereID, Sexe, PaysOrigine, DateNaissance, RegionNaissance, \\\n",
    "        DateDeces, RegionDeces, DateMariage, ConjointID, URBMariage, RegionMariage, \\\n",
    "        DateMariageParents, URBMariageParents, RegionMariageParents = row\n",
    "\n",
    "        IndID = int(IndID) if IndID != 'NA' else 0\n",
    "        URBMariage = int(URBMariage) if URBMariage != 'NA' else 0\n",
    "        RegionMariage = int(RegionMariage) if RegionMariage != 'NA' else 0\n",
    "        DateMariage = int(DateMariage) if DateMariage != 'NA' else 0\n",
    "        URBMariageParents = int(URBMariageParents) if URBMariageParents != 'NA' else 0\n",
    "        RegionMariageParents = int(RegionMariageParents) if RegionMariageParents != 'NA' else 0\n",
    "\n",
    "        city_proband[IndID] = city_code_to_string.get(URBMariage, 0)\n",
    "        region_proband[IndID] = region_code_to_string.get(RegionMariage, 0)\n",
    "        year_proband[IndID] = DateMariage\n",
    "        city_parent[IndID] = city_code_to_string.get(URBMariageParents, 0)\n",
    "        region_parent[IndID] = region_code_to_string.get(RegionMariageParents, 0)"
   ]
  },
  {
   "cell_type": "markdown",
   "metadata": {},
   "source": [
    "The next three booleans are used to identify individuals who married in Saguenay–Lac-Saint-Jean between 1931 and 1960."
   ]
  },
  {
   "cell_type": "code",
   "execution_count": 7,
   "metadata": {},
   "outputs": [
    {
     "data": {
      "text/plain": [
       "175747"
      ]
     },
     "execution_count": 7,
     "metadata": {},
     "output_type": "execute_result"
    }
   ],
   "source": [
    "in_slsj = [region_proband.get(ind, 'Unknown') == 'Saguenay–Lac-Saint-Jean' for ind in inds]\n",
    "sum(in_slsj)"
   ]
  },
  {
   "cell_type": "code",
   "execution_count": 8,
   "metadata": {},
   "outputs": [
    {
     "data": {
      "text/plain": [
       "1924461"
      ]
     },
     "execution_count": 8,
     "metadata": {},
     "output_type": "execute_result"
    }
   ],
   "source": [
    "from_1931 = [year_proband.get(ind, 0) >= 1935 for ind in inds]\n",
    "sum(from_1931)"
   ]
  },
  {
   "cell_type": "code",
   "execution_count": 9,
   "metadata": {},
   "outputs": [
    {
     "data": {
      "text/plain": [
       "5899837"
      ]
     },
     "execution_count": 9,
     "metadata": {},
     "output_type": "execute_result"
    }
   ],
   "source": [
    "until_1960 = [year_proband.get(ind, 1961) <= 1960 for ind in inds]\n",
    "sum(until_1960)"
   ]
  },
  {
   "cell_type": "markdown",
   "metadata": {},
   "source": [
    "The three booleans are used for identifying the generation."
   ]
  },
  {
   "cell_type": "code",
   "execution_count": 10,
   "metadata": {},
   "outputs": [
    {
     "data": {
      "text/plain": [
       "88848"
      ]
     },
     "execution_count": 10,
     "metadata": {},
     "output_type": "execute_result"
    }
   ],
   "source": [
    "generation = [ind for ind, cond1, cond2, cond3\n",
    "              in zip(inds, in_slsj, from_1931, until_1960)\n",
    "              if cond1 and cond2 and cond3]\n",
    "len(generation)"
   ]
  },
  {
   "cell_type": "markdown",
   "metadata": {},
   "source": [
    "A new genealogy is formed from the original genealogy in order to filter out the parents, so we only keep the probands."
   ]
  },
  {
   "cell_type": "code",
   "execution_count": 11,
   "metadata": {},
   "outputs": [
    {
     "data": {
      "text/plain": [
       "A pedigree with:\n",
       " - 369427 individuals;\n",
       " - 693062 parent-child relations;\n",
       " - 182912 men;\n",
       " - 186515 women;\n",
       " - 80348 probands;\n",
       " - 18 generations."
      ]
     },
     "execution_count": 11,
     "metadata": {},
     "output_type": "execute_result"
    }
   ],
   "source": [
    "iso_ped = gen.branching(ped, pro=generation)\n",
    "iso_ped"
   ]
  },
  {
   "cell_type": "markdown",
   "metadata": {},
   "source": [
    "The following identifies the probands."
   ]
  },
  {
   "cell_type": "code",
   "execution_count": 12,
   "metadata": {},
   "outputs": [
    {
     "data": {
      "text/plain": [
       "80348"
      ]
     },
     "execution_count": 12,
     "metadata": {},
     "output_type": "execute_result"
    }
   ],
   "source": [
    "pro = gen.pro(iso_ped)\n",
    "len(pro)"
   ]
  },
  {
   "cell_type": "markdown",
   "metadata": {},
   "source": [
    "The list of probands is finally saved as a pickle."
   ]
  },
  {
   "cell_type": "code",
   "execution_count": 13,
   "metadata": {},
   "outputs": [],
   "source": [
    "with open(paths['wd'] + \"results/pickles/balsac_probands.pkl\", 'wb') as file:\n",
    "    pickle.dump(pro, file)"
   ]
  }
 ],
 "metadata": {
  "kernelspec": {
   "display_name": "venv",
   "language": "python",
   "name": "python3"
  },
  "language_info": {
   "codemirror_mode": {
    "name": "ipython",
    "version": 3
   },
   "file_extension": ".py",
   "mimetype": "text/x-python",
   "name": "python",
   "nbconvert_exporter": "python",
   "pygments_lexer": "ipython3",
   "version": "3.11.5"
  }
 },
 "nbformat": 4,
 "nbformat_minor": 2
}
